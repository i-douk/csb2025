{
 "cells": [
  {
   "cell_type": "markdown",
   "metadata": {},
   "source": [
    "- This essay shed the light on three cyber attacks incidents, for each I will concisely describe the attack, the reported cause of the attack, the immediate response, the actors involved, the intent of the attack and the reported and speculated costs.\n",
    "\n",
    "\t\t\t- As reported by mortgage lender LoanDepot on Jan 8th 2024, attackers were successful in infiltrating the network and gaining access to encrypted data on Jan 4th, to which LoanDepot reacted by taking down some of their systems. The incident has been reported as a Ransomware attack, and has exposed sensitive data including social security numbers of nearly 17 Mil. LoanDepot customers. As Alphv/BlackCat ransomware group claimed responsibility for this attack, customers data remained exposed and customers were unable to log in and make their payments. LoanDepot has reported a total cost of $27 Millions covering investigation, customers notifications, remediation response and legal costs. I speculate that additional consequences could be those related to the customers : identity theft and committing various frauds using the victims personal data. [1] [2]\n",
    "\n",
    "\t\t-  Cyberhaven, a major and trusted Data Loss prevention Provider has made a public disclosure on Jan 2nd, 2025 that one of their employees has fallen victim to a phishing attack of Dec 24th , 2024 resulting in the malicious attacker to push a version of Cyberhaven chrome extension containing malicious code that was aimed to compromise Facebook related information related to 400K business accounts, this attack could potentially mess up the billing system for Facebook Advertising and ultimately lead the affected users to lose money through fraudulent maneuvers and potentially bring deleterious consequences to Facebook's Ads clientele. [3]\n",
    "\n",
    "\t\t- Lastly, I will close up with Zero-Day Firefox and Windows Flaws exploited by the threat actor RomCom, and patched on October and November 2024, by Mozilla and Microsoft respectively. It has been discovered by Slovak Cybersecurity and is known to target victims in Europe and North America with the purpose of espionage and cyber-crime. The exploit is triggered by a backdoor that installs in the victim's machine with no user interaction and simply by browsing to the web page containing the malware. The number of victims and scale of the attacks have not been disclosed, but based on the fact the exploit is known to execute command and download additional modules, the infected victims in key governmental positions for instance are put at risk by disclosing their location and taking control of their machine exposing them to a physical threat. [4]\n",
    "\n",
    "[1]https://www.bankinfosecurity.com/loandepot-ransomware-attack-166-million-customers-affected-a-24155\n",
    "[2] https://techcrunch.com/2024/02/26/loandepot-millions-sensitive-personal-data-ransomware/\n",
    "[3] https://www.symmetry-systems.com/blog/what-we-know-so-far-about-cyberhaven-and-other-chrome-extension-attacks/\n",
    "[4] https://thehackernews.com/2024/11/romcom-exploits-zero-day-firefox-and.html"
   ]
  }
 ],
 "metadata": {
  "language_info": {
   "name": "python"
  }
 },
 "nbformat": 4,
 "nbformat_minor": 2
}
