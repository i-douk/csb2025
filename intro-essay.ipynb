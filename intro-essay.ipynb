{
 "cells": [
  {
   "cell_type": "markdown",
   "metadata": {},
   "source": [
    "1st Essay listing 3 recent notable cyber attacks, submitted, 3 peer reviews received, 4 peer reviwes given.\n",
    "\n",
    "In this essay, I will concisely describe three cyber attacks by stating the following : type of attack, reported cause, immediate response, actors involved,  intent of the attack and reported and speculated costs.\n",
    "As reported by mortgage lender LoanDepot on Jan 8th 2024, attackers were successful in infiltrating their network and gaining access to encrypted data on Jan 4th, to which LoanDepot reacted by taking down related systems. The incident has been reported as Ransomware, and has exposed sensitive data including social security numbers of nearly 17 Mil. customers. As Alphv/BlackCat ransomware group claimed responsibility for this attack, sensitive data remained exposed and customers were unable to log and make their payments. LoanDepot has reported a total cost of $27 Millions covering investigation, customers notifications, remediation and legal costs. I speculate that additional consequences could be those related to the customers : identity theft and committing various frauds using the victims data. [1] [2]\n",
    "Cyberhaven, a major and trusted Data Loss prevention Provider has made a public disclosure on Jan 2nd, 2025 that one of their employees has fallen victim to a phishing attack of Dec 24th 2024 resulting in the malicious attacker to push a version of Cyberhaven chrome extension containing malicious code aimed to compromise Facebook related information related to 400K business accounts, this attack could potentially mess up the billing system for Facebook Advertising and ultimately lead the affected users to lose money through fraudulent maneuvers  potentially bringing deleterious consequences to Facebook's Ads clientele. [3]\n",
    "Lastly, I will close up with Zero-Day Firefox and Windows Flaws exploited by the threat actor RomCom, patched on October and November 2024, by Mozilla and Microsoft respectively. Discovered by Slovak Cybersecurity and  known to target victims in Europe and North America with the purpose of espionage and cyber-crime, this exploit is triggered by browsing to the webpage containing the malware and installing a backdoor in the victim's machine with no user interaction. The number and scale of attacks have not been disclosed, however based on the fact the exploit is known to execute command and download additional modules, the infected victims in key governmental positions for instance are at risk of disclosing their location and taking control of their machine exposing them to a physical threat. [4]\n",
    "\n",
    "[1] https://www.bankinfosecurity.com/loandepot-ransomware-attack-166-million-customers-affected-a-24155\n",
    "[2] https://techcrunch.com/2024/02/26/loandepot-millions-sensitive-personal-data-ransomware/\n",
    "[3] https://www.symmetry-systems.com/blog/what-we-know-so-far-about-cyberhaven-and-other-chrome-extension-attacks/\n",
    "[4] https://thehackernews.com/2024/11/romcom-exploits-zero-day-firefox-and.html\n"
   ]
  }
 ],
 "metadata": {
  "language_info": {
   "name": "python"
  }
 },
 "nbformat": 4,
 "nbformat_minor": 2
}
