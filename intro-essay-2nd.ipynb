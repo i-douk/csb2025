{
 "cells": [
  {
   "cell_type": "code",
   "execution_count": null,
   "metadata": {
    "vscode": {
     "languageId": "plaintext"
    }
   },
   "outputs": [],
   "source": [
    "2nd Essay listing two cases of cyber attacks not disclosed in a timely manner and consequences suffered by customers due the cover up\n",
    "\n",
    "It's been disclosed on the April 2nd of this year that Oracle has finally 'silently' notified some of its customers of a security breach where a hacker has gained access to production environments, recent client credentials and encrypted passwords and \"claimed to have 6 Mil. Oracle Cloud records impacting 140 000 tenants\" [1]. After initially denying the incident and claiming that only a deprecated environment may have been breached. This admission by Oracle, following weeks of delay after the data has been leaked, only came due to a lawsuit accusing the company of a cover-up. Oracle's concealment could be due to the fact that this attack directly targets Oracle, tarnishing its image as a trusted cloud provider, this aimed attack could impact critical architecture and thus the totality of Oracle's customers rather than select tenants who's credentials have been leaked bringing about devastating financial loss and further class actions lawsuits.[2]\n",
    "\n",
    "Another major occurrence of a company minimizing a security breach concerns Capita, the biggest contractor for public and private organizations in the UK. \n",
    "The Black Basta ransomware was reportedly responsible for the attack by gaining access to 4% of Capita's servers on March 22, 2023. Despite the contractor claiming to having significantly restricting the incident on March 31, 8000 claimants are bringing a lawsuit against the company as the affected citizens have only been notified months to a year after the attack has taking place. Capita has suffered from declining revenue during the last years and was losing contracts which is likely the reason for this slow notification of the affected customers. An attack of such a major contractor, could cause panic among citizens that outweighs the scale of the data breached and stir public opinion into demanding that UK's officials  to completely suspend its contracts with Capita. [3][4]\n",
    "\n",
    "[1] https://www.cybersecuritydive.com/news/oracle-cloud-breach-production-environments/743720/\n",
    "[2] https://www.csoonline.com/article/3953644/oracle-quietly-admits-data-breach-days-after-lawsuit-accused-it-of-cover-up.html \n",
    "[3] https://www.ft.com/content/9645b92a-26d0-43ab-8bdd-9ae68fc0deaf\n",
    "[4]https://www.infosecurity-magazine.com/news/8000-claimants-sue-outsourcing/"
   ]
  }
 ],
 "metadata": {
  "language_info": {
   "name": "python"
  }
 },
 "nbformat": 4,
 "nbformat_minor": 2
}
