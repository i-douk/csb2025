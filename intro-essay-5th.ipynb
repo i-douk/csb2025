{
 "cells": [
  {
   "cell_type": "code",
   "execution_count": null,
   "id": "5b24c130",
   "metadata": {
    "vscode": {
     "languageId": "plaintext"
    }
   },
   "outputs": [],
   "source": [
    "The Great Firewall of China (GFW) is one of the most infamous systems of censorship as 'the Chinese media is one of the most heavily controlled in the world ranking 177 out of 180 according to the Index of Press Freedom (2023).' [1]\n",
    "\n",
    "GFW has grown in complexity since its first phase (2016) and uses various techniques to block access to websites and monitor social media activity.  'Originally developed to detect VPN use, deep packet inspection (DPI) is now an integral part of the Great Firewall.' [2] Where the Chinese system injects fake TCP packets and sends end-of-connections request to 'undesirable' servers.\n",
    "\n",
    "While DPI is extremely beneficial to organisations with its ability to catch threats and attacks concealed in the content of data packets, there are 'concerns about about censorship of Internet content by repressive governments'.[3] Such case, is the implementation of surveillance and censorship mechanisms with the assistance of western telecommunications companies (e.g. Nokia Corp., Siemens AG ) within the Iranian government telecom monopoly in 2008. Thus enabling authorities to block information and gather sensitive data about individuals and conduct misinformation campaigns, As 'Deep packet inspection involves inserting equipment into a flow of online data, from emails and Internet phone calls to images and messages on social-networking sites such as Facebook and Twitter.'[4]\n",
    "\n",
    "\n",
    "[1] https://www.bbc.co.uk/bitesize/guides/zptxxnb/revision/7\n",
    "[2] https://protonvpn.com/blog/great-firewall-china?srsltid=AfmBOoolsLbW9qT9z5mGvZURzXMLwqKfX81lQPrNyEWn7xbR4qUtrD6Y\n",
    "[3] https://democracyinafrica.org/a-new-anti-democratic-tool-the-deep-packet-inspection-technique/\n",
    "[4] https://archive-yaleglobal.yale.edu/content/irans-web-spying-aided-western-technology"
   ]
  }
 ],
 "metadata": {
  "language_info": {
   "name": "python"
  }
 },
 "nbformat": 4,
 "nbformat_minor": 5
}
