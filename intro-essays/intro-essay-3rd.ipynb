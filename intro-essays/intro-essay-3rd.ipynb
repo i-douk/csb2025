{
 "cells": [
  {
   "cell_type": "markdown",
   "id": "868f858c",
   "metadata": {},
   "source": [
    "3rd Essay - Listing three incidents were human error has caused an cyber attack resulting in a security breach\n",
    "\n",
    "Twitch, the popular streaming platform has seen parts of its internal source code, documents and sensitive data including payments made by the platform to 'twitchers' leaked on October 2021. A human error with a \"server configuration\" is stated to be the cause of this vulnerability that has been exploited by malicious third parties. Although Twitch hasn't commented on the accuracy of all the data exposed online or for how long the vulnerability has been present, a better encryption of the stored data is likely to diminish such data leaks, as well as limiting access control to critical configurations to a select few experimented developers with cyber security training. [1] \n",
    "\n",
    "As the previous case, concerns arose that 'Twitch hack means as it relates to the security of Amazon’s AWS cloud, Amazon has made it clear that this breach has nothing to do with the security of AWS cloud' [2], the second example will showcase how attackers can take advantage a misconfiguration exploiting any vulnerability in AWS. Such case is the data breach that affected SeniorAdvisor, the largest consumer rating websites for senior care, that exposed personal data of 3 Mil. people. An S3 bucket misconfiguration was discovered by Wizcase and identified as the cause for this data leak. This further emphasizes the importance of proper training in the technologies used and fine-grained access control. [3]\n",
    "\n",
    "The last presented case which I list as a human error leading up to a major security breach that could have exposed the vast majority of Linux servers and users, is the widely reported XZ Utils Backdoor where SSH authentication bypass backdoor was pushed by one of the maintainer of the open source XZ project. The attacker has pressured and manipulated the overworked maintainer of the project to receive permissions to the repository. This incident stresses the urgent need to rethink how contribution is made to massively used open source projects, and serious non-reciprocal contribution by companies in these projects. [4]\n",
    "\n",
    "[1]  https://www.bbc.com/news/technology-58829604\n",
    "[2] https://futurumgroup.com/insights/the-twitch-hack-its-personal-its-big-and-if-youre-in-network-security-scary-af/\n",
    "[3] https://www.secureblink.com/cyber-security-news/senioradvisor%27s-misconfigured-amazon-s3-triggered-a-massive-databreach-compromising-data-of-3-million-senior-citizens\n",
    "[4] https://www.akamai.com/blog/security-research/critical-linux-backdoor-xz-utils-discovered-what-to-know"
   ]
  }
 ],
 "metadata": {
  "language_info": {
   "name": "python"
  }
 },
 "nbformat": 4,
 "nbformat_minor": 5
}
