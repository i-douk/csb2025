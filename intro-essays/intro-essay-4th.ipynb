{
 "cells": [
  {
   "cell_type": "markdown",
   "id": "8f50ce33",
   "metadata": {},
   "source": [
    "This essay will shed light on three famous malware and one of their recorded occurrences in botnet attacks these include Mirai, 3ve, and EMOTET.\n",
    "\n",
    "In September 2016, Mirai took down most of the 'internet' by affecting 'several high-profile services such as OVH, Dyn, and  Krebs on Security via massive distributed Denial of service attacks.' by hijacking small IoT devices provoking DDOS attacks that exceeded 1 Tps as reported by OVH.\n",
    "\n",
    "Mirai has the particularity of having both a self-propagating module or worn that initially relied on attacking IoT with a fixed set of login/password commonly used. The DDOS attacks is carried out against targets controlled via a central set of command and control server, rendering it a redoubtable  botnet. [1]\n",
    "\n",
    "\n",
    "'3ve' was a large ad fraud operation that ran from 2013 to 2018 and infected 1.7 Million PCs, and which led to dramatic financial loss for advertisers. The FBI collaborated with Google, Adobe, McAfee, and Amazon to take down the fraud ring.\n",
    "\n",
    "'3ve used malware packages Boaxxe/Miuref and Kovter to infect PCs with spam emails and infected email attachments', and has created fake and low quality websites that were participants in AdSense and thus generating inorganic traffic to advertisers by manipulating clicks by the botnet. [2]\n",
    "\n",
    "Another botnet that required worldwide 'collaborative effort between authorities in the Netherlands, Germany, the United States, the United Kingdom, France, Lithuania, Canada and Ukraine' [3]] to take down in January 2021 is EMOTET.  \n",
    "\n",
    "his trojan uses spam botnets that spread via email[4]. 'Recipients then receive emails that appear to have been sent by people with whom they have only recently been in contact, but are fake.' [5] After being offline for 11 months. It resurfaced again, notably targeting Max Plank Institute for Plasma Physics.\n",
    "\n",
    "\n",
    "[1] https://blog.cloudflare.com/inside-mirai-the-infamous-iot-botnet-a-retrospective-analysis/\n",
    "[2] https://www.lunio.ai/blog/3ve-botnet\n",
    "[3] https://www.europol.europa.eu/media-press/newsroom/news/world%E2%80%99s-most-dangerous-malware-emotet-disrupted-through-global-action\n",
    "[4] https://blog.lastpass.com/posts/emotet\n",
    "[5] https://www.mpg.de/18941175/emotet-malware-max-planck-institute-plasma-physics"
   ]
  }
 ],
 "metadata": {
  "language_info": {
   "name": "python"
  }
 },
 "nbformat": 4,
 "nbformat_minor": 5
}
