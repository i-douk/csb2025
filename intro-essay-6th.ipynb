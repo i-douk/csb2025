{
 "cells": [
  {
   "cell_type": "code",
   "execution_count": null,
   "id": "b2474ac2",
   "metadata": {
    "vscode": {
     "languageId": "plaintext"
    }
   },
   "outputs": [],
   "source": [
    " Memory safety is one of the most prevalent causes of cryptographic failures.  Blessing et al. found that 48.4% of the CVEs in C/C++ libraries included in their study could have been prevented or mitigated by using a memory-safe language instead.[1]\n",
    "\n",
    "Described as a catastrophic bug, Heartbleed was announced in 2014 and affects the widely used cryptographic library OpenSSL.  'An attacker can trick OpenSSL into allocating a 64KB buffer, copy more bytes than is necessary into the buffer, send that buffer back, and thus leak the contents of the victim’s memory, 64KB at a time' [2] The Canada Revenue Agency  have been targeted in the same year through this OpenSSL vulnerability with the intent to steal Social Insurance Numbers. [3]\n",
    "\n",
    "A notable privilege escalation vulnerability named Dirty COW was discovered in 2016 and related to how the Linux Kernel subsystem handles copy-on-write (COW) [4]. It has been first exploited by ZNIU in the same year, an android malware. This malware will harvest the carrier information of the user. It then transacts with the carrier through an SMS-enabled payment service, allowing the malware operator to pose as the device owner. Through the victim’s mobile device, the operator behind ZNIU will collect money through the carrier’s payment service. [5]\n",
    "\n",
    "EternalBlue is another exploit that causes extra data to overflow into adjacent memory space (buffer overflow), it affects anything that uses the Microsoft SMBv1 server protocol and was patched by Microsoft in 2017. [6] This vulnerability was reportedly implicated in the blackmail of Baltimore's local government where the attackers has demanded a ransome of 13 Bitcoin after locking down the email system. [7]\n",
    "\n",
    "\n",
    " [1]  https://dspace.mit.edu/bitstream/handle/1721.1/155457/3634737.3657012.pdf?sequence=1&isAllowed=y\n",
    " [2] https://owasp.org/www-community/vulnerabilities/Heartbleed_Bug\n",
    " [3] https://www.zdnet.com/article/heartbleed-used-for-canada-revenue-agency-breach/\n",
    " [4] https://www.redhat.com/en/blog/understanding-and-mitigating-dirty-cow-vulnerability\n",
    " [5] https://www.trendmicro.com/en_us/research/17/i/zniu-first-android-malware-exploit-dirty-cow-vulnerability.html\n",
    " [6] https://www.sentinelone.com/blog/eternalblue-nsa-developed-exploit-just-wont-die/\n",
    " [7] https://www.bbc.com/news/technology-48423954"
   ]
  }
 ],
 "metadata": {
  "language_info": {
   "name": "python"
  }
 },
 "nbformat": 4,
 "nbformat_minor": 5
}
