{
 "cells": [
  {
   "cell_type": "markdown",
   "id": "043f3014",
   "metadata": {},
   "source": [
    "### Abstract:\n",
    "- The first systematic , longitudinal analysis of cryptographic libraries and the vulnerabilities they produce.\n",
    "- 48,4% of vulnerabilities in libraries are written in C and C++, mainly related to memory safety.\n",
    "- 27,5% related to cryptographic design and implementation issues.\n",
    "- 19,4% side channel attacks."
   ]
  },
  {
   "cell_type": "markdown",
   "id": "09458454",
   "metadata": {},
   "source": [
    "### Introduction\n",
    " \n",
    " - Cryptogrqphic libraries are responsible for securing all network communications, yet have produced notoriously severe vulnerabilities.\n",
    " - In 2014, HeartBleed vulnerability in OpenSSL enables attackers to read the content of servers private memory.\n",
    " - In June 2020, GnuTLS suffered a significatn vulnerability allowing a remote attacker to passively decrypt network traffic.\n",
    " - A common aphorism in the security community is 'Cryptographic code is inherintly difficult to secure due to its complexity', another maxim is 'Complexity is the enemy of security'.\n",
    " - Many cryptographic libraries includes code that is not purely cryptographic in nature, including often complex network protocols, data sophistication (e.g. X.509 parsing), and system configuration code.\n",
    " - Novel cryptographic primitives, programming languages abd use-cases suc h as cryptocurrencies and zero-knowledge proofs emerge increasingly in the industry.\n",
    " - An oft-cited strategy to improve security in cryptographic libraries and other systems is to write code in memory-safe languages such as Rust.\n",
    " - The study examines 37 commonly used cryptographic libraries, and include the 23 libraries  that have had any vulnerability reported in the National Vulnerability Database (NVD) accross the 18-year period from 2005 and 2022.\n",
    " - Special attention is paid to the relationship between software complaxity and vulnerability frequency , recording codebase size and cyclomatic complexity of each library.\n",
    " - Special attenmtion is paid to the relationship between software complexity and vulnerability frequency, recording codebase size and cyclomatic complexity of each library.\n",
    " - Among the findings are that while 27,5% of vulnerabilities in cryptographix software are issues directly related to the cryptographic protocols or implementation, 40.0% of errors across all libraries are related to memory management and a further 19,5% are side-channel attacks, suggesting that developers shoudld focus their efforts on systems-level implementation issues.\n",
    " - In-depth syb-classification reveals that just 14 of 502, or 2,5% of all vulnerabilities are due to broken protocols or ciphers.\n",
    " - Over 35% were located in implementation of the SSL/TLS protocols.\n",
    " - 27,9% arising from certificate parsing implementation.\n",
    " - The median exploitable lifetime of a vulnerability in a cryptographic library is 3,88% years.\n",
    " - Through an analysis od OpenSSL's major version release, OpenSSL has an average defect density of 1 CVE per thousand lines of code.\n",
    " - The contribution of the study is as follows:\n",
    "    - Compile and publish a dataset of all vulbnerabilities in cryptographic libraries.\n",
    "    - In-depth review of each issue, extensively characterizing all vulnerabilities by type, feature location, lifetime, severity and other characteristics.\n",
    "    - Investigate complexity whithin the library code-bases as a potential source of vulnerabilities, finding substantial variation in complexity among different cryptographic components.\n",
    "    - Presenting two novel classification taxonomies specific to cryptographic software and provide guidelines to improve NVDs data quality\n",
    "- Related work:\n",
    "    - Relationship between complexity and security\n",
    "    - Empirical vulnerability analysis\n",
    "    - Role of human factors in software insecurity\n",
    "- Methodology:\n",
    "    - Collecting source code repository and vulnerability data from 23 open source cryptographic libraries.\n",
    "    - Cryptographic library is defined as general purpose collection of implementations of cryptographic primitives and/or protocols. In particular, wrappers are excluded in addition to libraries focused on comparatively nice primitives such as multi-party computation and zk-SNARKs.\n",
    "    - Discussing vulnerability characteristics, our collection and data cleansing methodology.\n",
    "    - Collecting some of the dataset was obtained through web scraping, we also manually compiled amd analysed our dataset due to inconsistencies and inaccuracies in the NVD and other sources.\n",
    "\n",
    "- Systems analysed: are Open Source, and have suffiscient CVE reporting ( at least one reported CVE)\n",
    "\n",
    " \n",
    "\n",
    "\n"
   ]
  }
 ],
 "metadata": {
  "language_info": {
   "name": "python"
  }
 },
 "nbformat": 4,
 "nbformat_minor": 5
}
