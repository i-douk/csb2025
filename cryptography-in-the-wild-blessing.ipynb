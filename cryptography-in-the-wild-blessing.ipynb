{
 "cells": [
  {
   "cell_type": "markdown",
   "id": "043f3014",
   "metadata": {},
   "source": [
    "### Abstract:\n",
    "- The first systematic , longitudinal analysis of cryptographic libraries and the vulnerabilities they produce.\n",
    "- 48,4% of vulnerabilities in libraries are written in C and C++, mainly related to memory safety.\n",
    "- 27,5% related to cryptographic design and implementation issues.\n",
    "- 19,4% side channel attacks."
   ]
  },
  {
   "cell_type": "markdown",
   "id": "09458454",
   "metadata": {},
   "source": [
    "### Introduction\n",
    " \n",
    " - Cryptogrqphic libraries are responsible for securing all network communications, yet have produced notoriously severe vulnerabilities.\n",
    " - In 2014, HeartBleed vulnerability in OpenSSL enables attackers to read the content of servers private memory.\n",
    " - In June 2020, GnuTLS suffered a significatn vulnerability allowing a remote attacker to passively decrypt network traffic.\n",
    " - A common aphorism in the security community is 'Cryptographic code is inherintly difficult to secure due to its complexity', another maxim is 'Complexity is the enemy of security'.\n",
    " - Many cryptographic libraries includes code that is not purely cryptographic in nature, including often complex network protocols, data sophistication (e.g. X.509 parsing), and system configuration code.\n",
    " - Novel cryptographic primitives, programming languages abd use-cases suc h as cryptocurrencies and zero-knowledge proofs emerge increasingly in the industry.\n",
    " - An oft-cited strategy to improve security in cryptographic libraries and other systems is to write code in memory-safe languages such as Rust.\n",
    "\n",
    " \n"
   ]
  }
 ],
 "metadata": {
  "language_info": {
   "name": "python"
  }
 },
 "nbformat": 4,
 "nbformat_minor": 5
}
